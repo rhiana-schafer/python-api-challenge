{
 "cells": [
  {
   "cell_type": "markdown",
   "metadata": {},
   "source": [
    "# VacationPy\n"
   ]
  },
  {
   "cell_type": "code",
   "execution_count": null,
   "metadata": {},
   "outputs": [],
   "source": [
    "# Dependencies and Setup\n",
    "import matplotlib.pyplot as plt\n",
    "import pandas as pd\n",
    "import numpy as np\n",
    "import requests\n",
    "import gmaps\n",
    "import os\n",
    "\n",
    "# Import API key\n",
    "from api_keys import g_key"
   ]
  },
  {
   "cell_type": "markdown",
   "metadata": {},
   "source": [
    "### Store Part I results into DataFrame"
   ]
  },
  {
   "cell_type": "code",
   "execution_count": null,
   "metadata": {},
   "outputs": [],
   "source": [
    "output_data_file = \"output_data/cities.csv\"\n",
    "city_df = pd.read_csv(output_data_file)\n",
    "city_df.head()"
   ]
  },
  {
   "cell_type": "markdown",
   "metadata": {},
   "source": [
    "### Humidity Heatmap"
   ]
  },
  {
   "cell_type": "code",
   "execution_count": null,
   "metadata": {},
   "outputs": [],
   "source": [
    "# Configure gmaps\n",
    "gmaps.configure(api_key=g_key)"
   ]
  },
  {
   "cell_type": "code",
   "execution_count": null,
   "metadata": {},
   "outputs": [],
   "source": [
    "# Bring in location data pairs, \n",
    "locations = city_df[[\"Lat\", \"Lng\"]]\n",
    "\n",
    "#humidity data, \n",
    "humidity = city_df['Humidity']\n",
    "\n",
    "#define map \n",
    "fig = gmaps.figure()\n",
    "\n",
    "#and layer, and add layer to map\n",
    "heat_layer = gmaps.heatmap_layer(locations, weights=humidity)\n",
    "\n",
    "# Add layer\n",
    "fig.add_layer(heat_layer)\n",
    "\n",
    "# Display figure\n",
    "fig"
   ]
  },
  {
   "cell_type": "markdown",
   "metadata": {},
   "source": [
    "### Create new DataFrame fitting weather criteria\n",
    "The dataset is now narrowed down to suit my tastes. \n",
    "My ideal weather conditions:\n",
    "####    A max temperature lower than 80 degrees but higher than 70.\n",
    "####    Wind speed less than 10 mph.\n",
    "####    Humidity between 30% and 60%.\n"
   ]
  },
  {
   "cell_type": "code",
   "execution_count": null,
   "metadata": {},
   "outputs": [],
   "source": [
    "ideal_city_df = city_df[city_df['Cloudiness']<10]\n",
    "ideal_city_df = ideal_city_df[ideal_city_df['Max Temp']>60]\n",
    "ideal_city_df = ideal_city_df[ideal_city_df['Max Temp']<75]\n",
    "ideal_city_df = ideal_city_df[ideal_city_df['Wind Speed']<20]\n",
    "ideal_city_df = ideal_city_df[ideal_city_df['Humidity']<60]\n",
    "ideal_city_df = ideal_city_df[ideal_city_df['Humidity']>30]\n",
    "ideal_city_df = ideal_city_df.dropna()\n",
    "ideal_city_df\n"
   ]
  },
  {
   "cell_type": "markdown",
   "metadata": {},
   "source": [
    "### Hotel Map\n",
    "Now that I have my ideal vacation spot, I need a place to stay! The following code uses Google Maps API to find an appropriate hotel in each city."
   ]
  },
  {
   "cell_type": "code",
   "execution_count": null,
   "metadata": {},
   "outputs": [],
   "source": [
    "# Create dataframe and empty column\n",
    "hotel_df = ideal_city_df[['City', 'Country','Lat', 'Lng']]\n",
    "hotel_df = hotel_df.reindex(columns = ['Hotel Name','City', 'Country', 'Lat', 'Lng'])\n",
    "hotel_df = hotel_df.reset_index(drop = True)\n",
    "\n",
    "hotel_df\n"
   ]
  },
  {
   "cell_type": "code",
   "execution_count": null,
   "metadata": {},
   "outputs": [],
   "source": [
    "#Use Google Places API to find the first hotel for each city located within 5,000 meters of your coordinates.\n",
    "base_url = \"https://maps.googleapis.com/maps/api/place/nearbysearch/json\"\n",
    "target_type = \"lodging\"\n",
    "radius = 5000\n",
    "params = {\n",
    "    \"location\": \"\",\n",
    "    \"type\": target_type,\n",
    "    \"radius\": radius,\n",
    "    \"key\": g_key\n",
    "}\n",
    "\n",
    "for index, row in hotel_df.iterrows():\n",
    "    params['location'] = f\"{row['Lat']},{row['Lng']}\"\n",
    "    response = requests.get(base_url, params).json()\n",
    "    try:\n",
    "        hotel_df.loc[index, 'Hotel Name'] = response['results'][0]['name']\n",
    "    except:\n",
    "        print(\"oops, something went wrong with the API call\")\n",
    "        #print(response)\n",
    "\n",
    "hotel_df\n",
    "\n",
    "#Plot the hotels on top of the humidity heatmap, with each pin containing the Hotel Name, City, and Country, as in the following image:\n"
   ]
  },
  {
   "cell_type": "code",
   "execution_count": null,
   "metadata": {},
   "outputs": [],
   "source": [
    "# NOTE: Do not change any of the code in this cell\n",
    "# Analyze the code below for variables but these should be all columns in hotel_df\n",
    "\n",
    "# Using the template add the hotel marks to the heatmap\n",
    "info_box_template = \"\"\"\n",
    "<dl>\n",
    "<dt>Name</dt><dd>{Hotel Name}</dd>\n",
    "<dt>City</dt><dd>{City}</dd>\n",
    "<dt>Country</dt><dd>{Country}</dd>\n",
    "</dl>\n",
    "\"\"\"\n",
    "# Store the DataFrame Row\n",
    "# NOTE: be sure to update with your DataFrame name\n",
    "hotel_info = [info_box_template.format(**row) for index, row in hotel_df.iterrows()]\n",
    "marker_locations = hotel_df[[\"Lat\", \"Lng\"]]"
   ]
  },
  {
   "cell_type": "code",
   "execution_count": null,
   "metadata": {},
   "outputs": [],
   "source": [
    "# Add marker layer ontop of heat map\n",
    "# Create marker layer\n",
    "marker_layer = gmaps.marker_layer(marker_locations, info_box_content=hotel_info)\n",
    "\n",
    "# Add layer\n",
    "fig.add_layer(marker_layer)\n",
    "\n",
    "# Display figure\n",
    "fig\n",
    "\n"
   ]
  },
  {
   "cell_type": "code",
   "execution_count": null,
   "metadata": {},
   "outputs": [],
   "source": []
  }
 ],
 "metadata": {
  "kernelspec": {
   "display_name": "Python 3 (ipykernel)",
   "language": "python",
   "name": "python3"
  },
  "language_info": {
   "codemirror_mode": {
    "name": "ipython",
    "version": 3
   },
   "file_extension": ".py",
   "mimetype": "text/x-python",
   "name": "python",
   "nbconvert_exporter": "python",
   "pygments_lexer": "ipython3",
   "version": "3.9.7"
  },
  "latex_envs": {
   "LaTeX_envs_menu_present": true,
   "autoclose": false,
   "autocomplete": true,
   "bibliofile": "biblio.bib",
   "cite_by": "apalike",
   "current_citInitial": 1,
   "eqLabelWithNumbers": true,
   "eqNumInitial": 1,
   "hotkeys": {
    "equation": "Ctrl-E",
    "itemize": "Ctrl-I"
   },
   "labels_anchors": false,
   "latex_user_defs": false,
   "report_style_numbering": false,
   "user_envs_cfg": false
  }
 },
 "nbformat": 4,
 "nbformat_minor": 4
}
